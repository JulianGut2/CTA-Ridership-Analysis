{
 "cells": [
  {
   "cell_type": "code",
   "execution_count": 7,
   "id": "f1d2674e",
   "metadata": {},
   "outputs": [
    {
     "data": {
      "text/html": [
       "<div>\n",
       "<style scoped>\n",
       "    .dataframe tbody tr th:only-of-type {\n",
       "        vertical-align: middle;\n",
       "    }\n",
       "\n",
       "    .dataframe tbody tr th {\n",
       "        vertical-align: top;\n",
       "    }\n",
       "\n",
       "    .dataframe thead th {\n",
       "        text-align: right;\n",
       "    }\n",
       "</style>\n",
       "<table border=\"1\" class=\"dataframe\">\n",
       "  <thead>\n",
       "    <tr style=\"text-align: right;\">\n",
       "      <th></th>\n",
       "      <th>Unnamed: 0</th>\n",
       "      <th>service_date</th>\n",
       "      <th>day_type</th>\n",
       "      <th>bus</th>\n",
       "      <th>rail_boardings</th>\n",
       "      <th>total_rides</th>\n",
       "      <th>year</th>\n",
       "      <th>month</th>\n",
       "      <th>weekday</th>\n",
       "    </tr>\n",
       "  </thead>\n",
       "  <tbody>\n",
       "    <tr>\n",
       "      <th>0</th>\n",
       "      <td>1195</td>\n",
       "      <td>2001-01-01</td>\n",
       "      <td>U</td>\n",
       "      <td>297192</td>\n",
       "      <td>126455</td>\n",
       "      <td>423647</td>\n",
       "      <td>2001</td>\n",
       "      <td>1</td>\n",
       "      <td>Monday</td>\n",
       "    </tr>\n",
       "    <tr>\n",
       "      <th>1</th>\n",
       "      <td>7906</td>\n",
       "      <td>2001-01-02</td>\n",
       "      <td>W</td>\n",
       "      <td>780827</td>\n",
       "      <td>501952</td>\n",
       "      <td>1282779</td>\n",
       "      <td>2001</td>\n",
       "      <td>1</td>\n",
       "      <td>Tuesday</td>\n",
       "    </tr>\n",
       "    <tr>\n",
       "      <th>2</th>\n",
       "      <td>6604</td>\n",
       "      <td>2001-01-03</td>\n",
       "      <td>W</td>\n",
       "      <td>824923</td>\n",
       "      <td>536432</td>\n",
       "      <td>1361355</td>\n",
       "      <td>2001</td>\n",
       "      <td>1</td>\n",
       "      <td>Wednesday</td>\n",
       "    </tr>\n",
       "    <tr>\n",
       "      <th>3</th>\n",
       "      <td>6528</td>\n",
       "      <td>2001-01-04</td>\n",
       "      <td>W</td>\n",
       "      <td>870021</td>\n",
       "      <td>550011</td>\n",
       "      <td>1420032</td>\n",
       "      <td>2001</td>\n",
       "      <td>1</td>\n",
       "      <td>Thursday</td>\n",
       "    </tr>\n",
       "    <tr>\n",
       "      <th>4</th>\n",
       "      <td>5067</td>\n",
       "      <td>2001-01-05</td>\n",
       "      <td>W</td>\n",
       "      <td>890426</td>\n",
       "      <td>557917</td>\n",
       "      <td>1448343</td>\n",
       "      <td>2001</td>\n",
       "      <td>1</td>\n",
       "      <td>Friday</td>\n",
       "    </tr>\n",
       "  </tbody>\n",
       "</table>\n",
       "</div>"
      ],
      "text/plain": [
       "   Unnamed: 0 service_date day_type     bus  rail_boardings  total_rides  \\\n",
       "0        1195   2001-01-01        U  297192          126455       423647   \n",
       "1        7906   2001-01-02        W  780827          501952      1282779   \n",
       "2        6604   2001-01-03        W  824923          536432      1361355   \n",
       "3        6528   2001-01-04        W  870021          550011      1420032   \n",
       "4        5067   2001-01-05        W  890426          557917      1448343   \n",
       "\n",
       "   year  month    weekday  \n",
       "0  2001      1     Monday  \n",
       "1  2001      1    Tuesday  \n",
       "2  2001      1  Wednesday  \n",
       "3  2001      1   Thursday  \n",
       "4  2001      1     Friday  "
      ]
     },
     "execution_count": 7,
     "metadata": {},
     "output_type": "execute_result"
    }
   ],
   "source": [
    "import pandas as pd\n",
    "from sklearn.model_selection import train_test_split\n",
    "\n",
    "# Import the data and take a quick peak at it\n",
    "df = pd.read_csv(\"../data/CTA_Ridership_Cleaned.csv\")\n",
    "df.head()"
   ]
  },
  {
   "cell_type": "code",
   "execution_count": 16,
   "id": "78be9607",
   "metadata": {},
   "outputs": [],
   "source": [
    "df[\"service_date\"] = pd.to_datetime(df[\"service_date\"])\n",
    "df['day'] = df[\"service_date\"].dt.day\n",
    "df[\"weekday\"] = df[\"service_date\"].dt.weekday\n",
    "df[\"dayofyear\"] = df[\"service_date\"].dt.dayofyear\n",
    "df[\"prev_day_rides\"] = df[\"total_rides\"].shift(1)\n",
    "df = df.dropna()"
   ]
  },
  {
   "cell_type": "code",
   "execution_count": 23,
   "id": "aa5d6edd",
   "metadata": {},
   "outputs": [
    {
     "name": "stdout",
     "output_type": "stream",
     "text": [
      "MAE: 81,419 Rides\n",
      "R2 Score: 0.62\n"
     ]
    }
   ],
   "source": [
    "# Define our X and our y so we can begin model training\n",
    "X = df[[\"dayofyear\", \"year\", \"month\", \"day\", \"weekday\", \"prev_day_rides\"]]\n",
    "y = df[\"total_rides\"]\n",
    "\n",
    "# Create our test train and split\n",
    "X_train, X_test, y_train, y_test = train_test_split(X, y, shuffle = False, test_size = 42)\n",
    "\n",
    "# Now we can import our model, from what we say in EDA our data is not linear meaning\n",
    "# we should use Random Forest and import MAE to eval the model\n",
    "\n",
    "from sklearn.ensemble import RandomForestRegressor\n",
    "from sklearn.metrics import mean_absolute_error, r2_score\n",
    "\n",
    "model = RandomForestRegressor(n_estimators = 100, random_state = 42)\n",
    "model.fit(X_train, y_train)\n",
    "\n",
    "y_pred = model.predict(X_test)\n",
    "mae = mean_absolute_error(y_test, y_pred)\n",
    "r2 = r2_score(y_test, y_pred)\n",
    "\n",
    "print(f\"MAE: {mae:,.0f} Rides\")\n",
    "print(f\"R2 Score: {r2:.2f}\")"
   ]
  },
  {
   "cell_type": "markdown",
   "id": "cb0d0417",
   "metadata": {},
   "source": [
    "### As we can see we obtained an R2 score of 0.62 which is decent, but we can do better. Lets do some feature engineering to try to get a better score"
   ]
  },
  {
   "cell_type": "code",
   "execution_count": null,
   "id": "dad48726",
   "metadata": {},
   "outputs": [],
   "source": []
  }
 ],
 "metadata": {
  "kernelspec": {
   "display_name": "base",
   "language": "python",
   "name": "python3"
  },
  "language_info": {
   "codemirror_mode": {
    "name": "ipython",
    "version": 3
   },
   "file_extension": ".py",
   "mimetype": "text/x-python",
   "name": "python",
   "nbconvert_exporter": "python",
   "pygments_lexer": "ipython3",
   "version": "3.12.7"
  }
 },
 "nbformat": 4,
 "nbformat_minor": 5
}
